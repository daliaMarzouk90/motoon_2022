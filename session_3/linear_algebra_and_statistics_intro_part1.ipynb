{
 "cells": [
  {
   "cell_type": "code",
   "execution_count": 2,
   "metadata": {},
   "outputs": [],
   "source": [
    "import numpy as np\n",
    "import statistics as st\n"
   ]
  },
  {
   "cell_type": "markdown",
   "metadata": {},
   "source": [
    "# Basics of Linear Algebra and Statistics"
   ]
  },
  {
   "cell_type": "markdown",
   "metadata": {},
   "source": [
    "## Linear Algebra\n",
    "### Scaler Vs Vector\n",
    "When a single quantity is enough to describe something then this quantity is <b>scaler</b>, otherwise when you need more than one describtor you are dealing with <b>vectors</b>.\n",
    "\n"
   ]
  },
  {
   "cell_type": "markdown",
   "metadata": {},
   "source": [
    "#### Test your Understanding\n",
    "<b>Mention if the following quantity is a scaler or vector. And if it was a vectore mention its dimension</b> </br>\n",
    "\n",
    "<ul>\n",
    "<li>Weight</li>\n",
    "<li>Humidity</li>\n",
    "<li>Velocity</li>\n",
    "<li>Image</li>\n",
    "<li>Students Weights</li>\n",
    "<li>Product prices over a year with defined time step</li>\n",
    "<li>Product prices over a year with random time step</li>\n",
    "</ul>"
   ]
  },
  {
   "cell_type": "code",
   "execution_count": 4,
   "metadata": {},
   "outputs": [
    {
     "data": {
      "text/plain": [
       "(1, 3)"
      ]
     },
     "execution_count": 4,
     "metadata": {},
     "output_type": "execute_result"
    }
   ],
   "source": [
    "x = np.array([[1,2,3]])\n",
    "x.shape"
   ]
  },
  {
   "cell_type": "markdown",
   "metadata": {},
   "source": [
    "## Getting Vecotr Length\n",
    "![](./imges/vecLength.jpg)"
   ]
  },
  {
   "cell_type": "markdown",
   "metadata": {},
   "source": [
    "### Mathematical Operations on Vectors"
   ]
  },
  {
   "cell_type": "markdown",
   "metadata": {},
   "source": [
    "#### 1- Adding and Subtracting\n",
    "![image info](./imges/adding.png)\n"
   ]
  },
  {
   "cell_type": "code",
   "execution_count": 3,
   "metadata": {},
   "outputs": [
    {
     "name": "stdout",
     "output_type": "stream",
     "text": [
      "[[2 4 6]]\n"
     ]
    }
   ],
   "source": [
    "x = np.array([[1,2,3]])\n",
    "y = np.array([[1,2,3]])\n",
    "\n",
    "print(x + y)\n",
    "#What is the difference between this example and the example in the image"
   ]
  },
  {
   "cell_type": "code",
   "execution_count": 5,
   "metadata": {},
   "outputs": [
    {
     "name": "stdout",
     "output_type": "stream",
     "text": [
      "[[1 2 3]]\n"
     ]
    }
   ],
   "source": [
    "z = x + y\n",
    "print(z - x)"
   ]
  },
  {
   "cell_type": "markdown",
   "metadata": {},
   "source": [
    "#### 2- Vector-Scalar Multiplication\n",
    "Some times called scalling or weighting. It is a bitwise operation\n",
    "![image info](./imges/Scaling.png)"
   ]
  },
  {
   "cell_type": "code",
   "execution_count": 9,
   "metadata": {},
   "outputs": [
    {
     "name": "stdout",
     "output_type": "stream",
     "text": [
      "[[1 1]\n",
      " [4 4]\n",
      " [9 9]]\n"
     ]
    }
   ],
   "source": [
    "alpha = 2\n",
    "x = np.array([[1],\n",
    "             [2],\n",
    "             [3]])\n",
    "\n",
    "y = np.array([[1, 1],\n",
    "             [2, 2],\n",
    "             [3, 3]])\n",
    "\n",
    "\n",
    "print(x*y)"
   ]
  },
  {
   "cell_type": "markdown",
   "metadata": {},
   "source": [
    "#### Test your Understanding\n",
    "- If a company need an equation to chane employees saleries based on the anual increase. What should be this equation. Write some code please</br>\n",
    "\n",
    "- Think of examples where vector-scaling is important!"
   ]
  },
  {
   "cell_type": "markdown",
   "metadata": {},
   "source": [
    "#### 2- Vector-Vector Multiplication (dot-product)\n",
    "![image info](./imges/dotProduct_1.png)"
   ]
  },
  {
   "cell_type": "code",
   "execution_count": 13,
   "metadata": {},
   "outputs": [
    {
     "name": "stdout",
     "output_type": "stream",
     "text": [
      "[[-1.4]]\n"
     ]
    }
   ],
   "source": [
    "x = np.array([[1],\n",
    "             [6],\n",
    "             [-2]])\n",
    "\n",
    "y = np.array([[-1],\n",
    "             [0],\n",
    "             [0.2]])\n",
    "\n",
    "print(x.T @ y)"
   ]
  },
  {
   "cell_type": "markdown",
   "metadata": {},
   "source": [
    "##### dot-product and cosine similarity\n",
    "Another formula to calculate the dot product is to multiply the length of the first vector by the length of the second vector by the cosine angle between the two vectors.</br>\n",
    "![image info](./imges/dotProduct_2.png)<br>\n",
    "\n",
    "cosine values ranges between one and zero\n",
    "- cos(0) = cos(180) = 1\n",
    "- cos(90) = 0 </br>\n",
    "For this conclusion the cosine value for the angle between two vectors became a very important measurement for the similarity of two vectors"
   ]
  },
  {
   "cell_type": "markdown",
   "metadata": {},
   "source": [
    "#### Matrix-Matrix Multiplication\n",
    "- dot-product is a special case from matrix multiplication</br>\n",
    "![image info](./imges/dotProduct_3.png)</br>\n",
    "\n",
    "- To multiply two matrices the first matrix should have number of columns equals the number of raws of the second one\n",
    "- The method of calculating the multiplication of two vectors\n",
    "![image info](./imges/mat_multiplication.png)</br>\n",
    "\n",
    "<b>Discussion: </br> How matrix maliplication relates to machine learning?"
   ]
  }
 ],
 "metadata": {
  "kernelspec": {
   "display_name": "Python 3.10.5 64-bit (windows store)",
   "language": "python",
   "name": "python3"
  },
  "language_info": {
   "codemirror_mode": {
    "name": "ipython",
    "version": 3
   },
   "file_extension": ".py",
   "mimetype": "text/x-python",
   "name": "python",
   "nbconvert_exporter": "python",
   "pygments_lexer": "ipython3",
   "version": "3.10.5"
  },
  "orig_nbformat": 4,
  "vscode": {
   "interpreter": {
    "hash": "3d649404ee286c9341d586c87dba08392d8b7db27d1214df02d5d59f9ee48e2a"
   }
  }
 },
 "nbformat": 4,
 "nbformat_minor": 2
}
