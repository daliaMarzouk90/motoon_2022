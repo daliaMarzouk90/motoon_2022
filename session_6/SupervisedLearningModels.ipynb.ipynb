{
 "cells": [
  {
   "cell_type": "markdown",
   "metadata": {},
   "source": [
    "## Agenda\n",
    "- Naive Bayes\n",
    "- Decision Trees\n",
    "- Random Forsts Trees"
   ]
  },
  {
   "cell_type": "markdown",
   "metadata": {},
   "source": [
    "### Naive Bayes\n",
    "#### Probability\n",
    "- The probabilty of an event is the likely of this event to be happen\n",
    "- In the discrete domain probability is calculated by dividing the number of possibilities of happening the event by the total count of all possible events\n",
    "- For example the probability of getting an orange from a box contains oranges, and apples is the as following <br>\n",
    "<center><b>P(orange) = Count(orange) / (Count(orange) + Count(Apple))</b><center><br/><br/>\n",
    "<center><img src=\"images/probability.jfif\" width=\"350\"/></center>"
   ]
  },
  {
   "cell_type": "markdown",
   "metadata": {},
   "source": [
    "#### Joint Probability\n",
    "- Joint proability if the probability of happing two events together\n",
    "- For example if we have students who may (success of faile) and may be (male or female)\n",
    "- When we say the probability of the student to be success and being male this is a joint probability<br>\n",
    "- All events are E(su,mlae), E(su, female), E(fa, male), and E(fa, female) <br/>\n",
    "and their proabilities are:<br/> \n",
    "<center><b>P(su,mlae), P(su, female), P(fa, male), and P(fa, female)</b><center/>\n"
   ]
  },
  {
   "cell_type": "markdown",
   "metadata": {},
   "source": [
    "### Conditional Probability\n",
    "- For the same example of having students who may (success of faile) and may be (male or female) we says we have already a number of students who are success, and what is the probability of being female<br/>\n",
    "<center><b>P(female|su) = Count(female,su) / (Count(female,su) + Count(male,su)) = Count(female,su) / Count(su)</center></b>"
   ]
  },
  {
   "cell_type": "markdown",
   "metadata": {},
   "source": [
    "### Note that:\n",
    "<b>Note that:</b><br>\n",
    "<center>P(female, su) = Count(femle, su) / Count(All samples)</center><br>\n",
    "<center>P(su) = Count(su) / Count(All samples)</center><br>\n",
    "<b>So,</b><center>Count(female, su) / Count(su) = P(femle, su) / P(su)</center><br>\n"
   ]
  },
  {
   "cell_type": "markdown",
   "metadata": {},
   "source": [
    "### Bayes Rule\n",
    "<center>\n",
    "P(A|B) = P(A,B) / P(B)<br/><br/>\n",
    "P(B|A) = P(A,B) / P(A) &emsp; --> &emsp;P(A,B) = P(B|A) P(A)<br/><br/>\n",
    "<b>So, </b>\n",
    "P(A|B) = P(A,B) / P(B) = P(B|A) P(A) / P(B)<br/><br/>\n",
    "<b>Then bayes rule is, </b>\n",
    "P(A|B) = P(B|A) P(A) / P(B)\n",
    "</center>"
   ]
  },
  {
   "cell_type": "markdown",
   "metadata": {},
   "source": [
    "### Bayes Rule in Machine Learning\n",
    "<ul>\n",
    "<li><b>P(Class|FeatureVector):</b> Posterior probability</li>\n",
    "<li><b>P(FeatureVector):</b> Prior probability</li>\n",
    "<li><b>P(FeatureVector|Class):</b> Likelihood probability</li>\n",
    "<li><b>P(Class):</b> Class probability</li>\n",
    "</ul>\n",
    "<center><b><br/>Posterior = Likelihood * Class_probability / Prior_Probability </b></center>"
   ]
  },
  {
   "cell_type": "markdown",
   "metadata": {},
   "source": [
    "### Naive Bayes\n",
    "<ul>\n",
    "<li> Naive Bayes classifier assumes that the presence of a particular feature in a class is unrelated to the presence of any other feature\n",
    "(this is the independence assumption)</li>\n",
    "<li> This assumption makes us calculate P(FeatureVector) as the result of multiplicatio of each feature value independently</li>\n",
    "<li> For example in Iris data set the probability of the a certain feature vector is:<br/><br/>\n",
    "<center><I>P(FeatureVector) = P(sepal_length) * P(sepal_width) * P(petal_length) * P(petal_width)<br/><br/>\n",
    "P(FeatureVector|Class_i) = P(sepal_length|Class_i) * P(sepal_width|Class_i) * P(petal_length|Class_i) * P(petal_width|Class_i)</I></center></li><br/>\n",
    "<li> At the time of prediction we calculate the probability of each class given the feature vector</li>\n",
    "<li> We vote for the class with the heighest probability</li>\n",
    "</ul>\n"
   ]
  },
  {
   "cell_type": "markdown",
   "metadata": {},
   "source": [
    "### Decision Trees\n",
    "- It is a simple type of classifiers that simulates the human logic\n",
    "- Decision tree is trying to create sequential questions such that it split the data into smaller groups\n",
    "\n",
    "<center><img src=\"images/decisionTree2.jpeg\" width=400></img></center>\n",
    "\n",
    "- The series of the questions are based on the values of the features\n",
    "- But which feature choose to split based on it first?"
   ]
  },
  {
   "cell_type": "markdown",
   "metadata": {},
   "source": [
    "#### Decision Tree Splitting Criterion\n",
    "- There are several algorithms to decide which feature to split the tree based on it first\n",
    "- The target is to choose a feature that splits the data into homogenious parts (best split data)\n",
    "<center><img src=\"images/dataset-perfect-split.svg\" width=300><figcaption>A perfect split line</figcaption></img></center>\n",
    "\n",
    "- The type of splitting criterion determined based on the problem\n",
    "    - If it was regression problem we will use <b>Variance Reduction Method</b>\n",
    "    - If it was classification problem we will use impurity measurement algorithms\n",
    "- Note that handling categorical values is stright forward. However handling continous values need a some sort variable bucketization (go back to session_3)\n"
   ]
  },
  {
   "cell_type": "markdown",
   "metadata": {},
   "source": [
    "##### Entropy and Information Gain\n",
    "- Entropy is used for calculating the impurity of a node. Lower the value of entropy, higher is the purity of the node\n",
    "- Information Gain is calculated as <br>\n",
    "<center><I><img loading=\"lazy\" class=\"aligncenter size-full wp-image-67439\" src=\"https://cdn.analyticsvidhya.com/wp-content/uploads/2020/06/ns6.png\" alt=\"information gain\" width=200></I></center>\n",
    "<center><img loading=\"lazy\" class=\"aligncenter size-full wp-image-67438\" src=\"https://cdn.analyticsvidhya.com/wp-content/uploads/2020/06/ns7.png\" alt=\"entropy information gain\" width=200></center>\n",
    "\n",
    "##### Steps\n",
    "1. For each split, individually calculate the entropy of each child node\n",
    "2. Calculate the entropy of each split as the weighted average entropy of child nodes\n",
    "3. Select the split with the lowest entropy or highest information gain\n",
    "4. Until you achieve homogeneous nodes, repeat steps 1-3"
   ]
  },
  {
   "cell_type": "markdown",
   "metadata": {},
   "source": [
    "#### Gini Impurity\n",
    "- The probability we classify the datapoint incorrectly\n",
    "<center><I><img loading=\"lazy\"src=\"images/GiniImpurity.png\" alt=\"Gini Impurity\" width=300></I></center>\n",
    "\n",
    "##### Steps\n",
    "1. For each split, individually calculate the gini of each child node\n",
    "2. Calculate the Gini Impurity of each split as the weighted average Gini Impurity of child nodes\n",
    "3. Select the split with the lowest value of Gini Impurity\n",
    "4. Until you achieve homogeneous nodes, repeat steps 1-3\n"
   ]
  },
  {
   "cell_type": "markdown",
   "metadata": {},
   "source": [
    "#### Variance Redution\n",
    "- Used with the regression problem\n",
    "- Choosing the split that have the lower variance; here we consider vairance as a  measurement of node homogenity\n",
    "##### Steps\n",
    "1. For each split, individually calculate the variance of each child node\n",
    "2. Calculate the variance of each split as the weighted average variance of child nodes\n",
    "3. Select the split with the lowest variance\n",
    "4. Perform steps 1-3 until completely homogeneous nodes are achieved"
   ]
  },
  {
   "cell_type": "markdown",
   "metadata": {},
   "source": [
    "### Assignment\n",
    "Write a report about CART algorithm with an example"
   ]
  },
  {
   "cell_type": "markdown",
   "metadata": {},
   "source": [
    "#### Decision Trees Disadvantages\n",
    "- A small change in the data can result in a major change in the structure of the decision tree\n",
    "- Less effective in predicting the outcome of a continuous variable\n",
    "- Easy to result in overfitting"
   ]
  },
  {
   "cell_type": "code",
   "execution_count": 6,
   "metadata": {},
   "outputs": [
    {
     "data": {
      "text/plain": [
       "[Text(0.5, 0.9166666666666666, 'X[3] <= 0.8\\ngini = 0.667\\nsamples = 150\\nvalue = [50, 50, 50]'),\n",
       " Text(0.4230769230769231, 0.75, 'gini = 0.0\\nsamples = 50\\nvalue = [50, 0, 0]'),\n",
       " Text(0.5769230769230769, 0.75, 'X[3] <= 1.75\\ngini = 0.5\\nsamples = 100\\nvalue = [0, 50, 50]'),\n",
       " Text(0.3076923076923077, 0.5833333333333334, 'X[2] <= 4.95\\ngini = 0.168\\nsamples = 54\\nvalue = [0, 49, 5]'),\n",
       " Text(0.15384615384615385, 0.4166666666666667, 'X[3] <= 1.65\\ngini = 0.041\\nsamples = 48\\nvalue = [0, 47, 1]'),\n",
       " Text(0.07692307692307693, 0.25, 'gini = 0.0\\nsamples = 47\\nvalue = [0, 47, 0]'),\n",
       " Text(0.23076923076923078, 0.25, 'gini = 0.0\\nsamples = 1\\nvalue = [0, 0, 1]'),\n",
       " Text(0.46153846153846156, 0.4166666666666667, 'X[3] <= 1.55\\ngini = 0.444\\nsamples = 6\\nvalue = [0, 2, 4]'),\n",
       " Text(0.38461538461538464, 0.25, 'gini = 0.0\\nsamples = 3\\nvalue = [0, 0, 3]'),\n",
       " Text(0.5384615384615384, 0.25, 'X[2] <= 5.45\\ngini = 0.444\\nsamples = 3\\nvalue = [0, 2, 1]'),\n",
       " Text(0.46153846153846156, 0.08333333333333333, 'gini = 0.0\\nsamples = 2\\nvalue = [0, 2, 0]'),\n",
       " Text(0.6153846153846154, 0.08333333333333333, 'gini = 0.0\\nsamples = 1\\nvalue = [0, 0, 1]'),\n",
       " Text(0.8461538461538461, 0.5833333333333334, 'X[2] <= 4.85\\ngini = 0.043\\nsamples = 46\\nvalue = [0, 1, 45]'),\n",
       " Text(0.7692307692307693, 0.4166666666666667, 'X[1] <= 3.1\\ngini = 0.444\\nsamples = 3\\nvalue = [0, 1, 2]'),\n",
       " Text(0.6923076923076923, 0.25, 'gini = 0.0\\nsamples = 2\\nvalue = [0, 0, 2]'),\n",
       " Text(0.8461538461538461, 0.25, 'gini = 0.0\\nsamples = 1\\nvalue = [0, 1, 0]'),\n",
       " Text(0.9230769230769231, 0.4166666666666667, 'gini = 0.0\\nsamples = 43\\nvalue = [0, 0, 43]')]"
      ]
     },
     "execution_count": 6,
     "metadata": {},
     "output_type": "execute_result"
    },
    {
     "data": {
      "image/png": "[encoded data removed]",
      "text/plain": [
       "<Figure size 432x288 with 1 Axes>"
      ]
     },
     "metadata": {
      "needs_background": "light"
     },
     "output_type": "display_data"
    }
   ],
   "source": [
    "from sklearn.datasets import load_iris\n",
    "from sklearn import tree\n",
    "clf = tree.DecisionTreeClassifier(random_state=0)\n",
    "iris = load_iris()\n",
    "\n",
    "clf = clf.fit(iris.data, iris.target)\n",
    "\n",
    "tree.plot_tree(clf, fontsize=6)"
   ]
  },
  {
   "cell_type": "markdown",
   "metadata": {},
   "source": [
    "### Random Forests\n",
    "- Random forests consists of a large number of individual decision trees that operate as an ensemble\n",
    "- A large number of relatively uncorrelated models (trees) operating as a committee will outperform any of the individual constituent models\n",
    "- Each individual tree in the random forest spits out a class prediction and the class with the most votes becomes our prediction\n",
    "- Every tree protect each other from their individual errors"
   ]
  },
  {
   "cell_type": "markdown",
   "metadata": {},
   "source": [
    "#### How Random Forests are Trained\n",
    "- By using sample with replacement technique\n",
    "- if our training data was [1, 2, 3, 4, 5, 6] then we might give one of our trees the following list [1, 2, 2, 3, 6, 6] \n",
    "- Note that both lists are of length six and that “2” and “6” are both repeated in the randomly selected training data we give to our tree\n",
    "-  In random forest can pick only from a random subset of features\n",
    "- It forces even more variation amongst the trees in the model and ultimately results in lower correlation across trees and more diversification\n",
    "<><>\n",
    "Ref: https://towardsdatascience.com/understanding-random-forest-58381e0602d2"
   ]
  },
  {
   "cell_type": "markdown",
   "metadata": {},
   "source": [
    "Solve the following problem once with decision trees and the other with random forests\n",
    "https://www.kaggle.com/datasets/jmmvutu/summer-products-and-sales-in-ecommerce-wish"
   ]
  }
 ],
 "metadata": {
  "kernelspec": {
   "display_name": "Python 3.10.4 64-bit",
   "language": "python",
   "name": "python3"
  },
  "language_info": {
   "codemirror_mode": {
    "name": "ipython",
    "version": 3
   },
   "file_extension": ".py",
   "mimetype": "text/x-python",
   "name": "python",
   "nbconvert_exporter": "python",
   "pygments_lexer": "ipython3",
   "version": "3.10.4"
  },
  "orig_nbformat": 4,
  "vscode": {
   "interpreter": {
    "hash": "dfedb6f9ff969e4dee037b4248a00ef2f6a1627a97de70de2314228a5c58e97f"
   }
  }
 },
 "nbformat": 4,
 "nbformat_minor": 2
}
