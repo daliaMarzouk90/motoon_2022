{
 "cells": [
  {
   "cell_type": "markdown",
   "metadata": {},
   "source": [
    "## Supervised Learning System Evaluation"
   ]
  },
  {
   "cell_type": "markdown",
   "metadata": {},
   "source": [
    "## Classification Evaluation Metrics\n",
    "\n",
    "### Basic Terminology\n",
    "- <b>True Positive (TP): </b> the positive examples in the test set that were classified <u>correctly</u> as positive examples\n",
    "- <b>False positive (FP): </b> the negative examples in the test set that were classified <u>wrongly</u> as positive examples\n",
    "- <b>True Negative (TN): </b> the negative examples in the test set that were classified <u>correctly</u> as negative exmples\n",
    "- <b>False Negative (FN): </b> the positive examples in the test set that wew classified <u>wrongly</u> as negative exmples</br></br>\n",
    "\n",
    "In binary classification those three categories constructs what is known as the confusion matrix</br></br>\n",
    "<center><img src=\"images/confusionMatrix.jpg\" width=300></img></center>"
   ]
  },
  {
   "cell_type": "code",
   "execution_count": 4,
   "metadata": {},
   "outputs": [
    {
     "data": {
      "image/png": "[encoded data removed]",
      "text/plain": [
       "<Figure size 2160x216 with 10 Axes>"
      ]
     },
     "metadata": {
      "needs_background": "light"
     },
     "output_type": "display_data"
    }
   ],
   "source": [
    "from hmac import digest\n",
    "from sklearn.datasets import load_digits\n",
    "from sklearn.model_selection import train_test_split\n",
    "from sklearn.svm import SVC\n",
    "import matplotlib.pyplot as plt\n",
    "\n",
    "digits = load_digits()\n",
    "\n",
    "_, axes = plt.subplots(nrows=1, ncols=10, figsize=(30, 3))\n",
    "for ax, image, label in zip(axes, digits.images, digits.target):\n",
    "    ax.set_axis_off()\n",
    "    ax.imshow(image, cmap=plt.cm.gray_r, interpolation=\"nearest\")\n",
    "    ax.set_title(\"Training: %i\" % label)"
   ]
  },
  {
   "cell_type": "code",
   "execution_count": 10,
   "metadata": {},
   "outputs": [],
   "source": [
    "y = digits.target == 9\n",
    "\n",
    "X_train, X_test, y_train, y_test = train_test_split(digits.data, y, random_state=0)\n",
    "\n",
    "predictor = SVC(gamma=0.001).fit(X_train, y_train)\n",
    "y_pred = predictor.predict(X_test)"
   ]
  },
  {
   "cell_type": "code",
   "execution_count": 11,
   "metadata": {},
   "outputs": [
    {
     "name": "stdout",
     "output_type": "stream",
     "text": [
      "[[402   1]\n",
      " [  3  44]]\n"
     ]
    }
   ],
   "source": [
    "from sklearn.metrics import confusion_matrix\n",
    "\n",
    "confusion = confusion_matrix(y_test, y_pred)\n",
    "print(confusion)"
   ]
  },
  {
   "cell_type": "markdown",
   "metadata": {},
   "source": [
    "To Evaluate a model we should keep in mind we do not only want to get good predictions but there is a bussiness demand we should fit.\n",
    "\n",
    "#### Examples\n",
    "- <b>In breast cancer example: </b> it is important to avoid false negative more than any thing\n",
    "- <b>In autonoumus driving problem: </b> it is important to avoid accidants. If we are using obesticals detection algorithm it is important to aboid false negative\n",
    "- <b>In robot lifitng problem: </b> it is important to avoid false positive\n",
    "\n",
    "### Evaluation Metrics\n",
    "#### Accuracy\n",
    "Simply it is the sum of correctly classified examples over all test samples\n",
    "\n",
    "$Accuracy = \\frac{TP + TN}{TP + FN + TN + FP}$\n",
    "\n",
    "##### Advantages\n",
    "- Accuracy's logic is straight forward\n",
    "- It is enough if you have balanced data\n",
    "- It is enough if all what you need is to obtain how many example was classified successfully\n",
    "\n",
    "##### Disadvantage\n",
    "- Fails in giving a good idea about system behavior when the data is unbalanced\n",
    "- Do not give an accurate view regarding each class. IT gives generalized idea\n",
    "- The effect of the majority class dominates\n"
   ]
  },
  {
   "cell_type": "code",
   "execution_count": null,
   "metadata": {},
   "outputs": [],
   "source": [
    "print(\"predictor score is: {:.2f}\".format(predictor.score(X_test, y_test)))"
   ]
  },
  {
   "cell_type": "markdown",
   "metadata": {},
   "source": [
    "#### Percision\n",
    "Measures how many of the samples predicted as positive are actually positive\n",
    "\n",
    "\n",
    "$Percision = \\frac{TP}{TP + FP}$\n",
    "\n",
    "- Used as evaluation metric when the goal is to limit false positive.\n",
    "- For example when the goal is to test if a new drug is effective in in treating a disease in clinical trials."
   ]
  },
  {
   "cell_type": "markdown",
   "metadata": {},
   "source": [
    "#### Recall\n",
    "Measures how many of the positive samples are captured by the poisitve prediction\n",
    "\n",
    "\n",
    "$Recall = \\frac{TP}{TP + FN}$\n",
    "\n",
    "- Used as evaluation metric when the goal is to limit false negative.\n",
    "- For example in the breast cancer data set it is important to avoid false negative."
   ]
  },
  {
   "cell_type": "markdown",
   "metadata": {},
   "source": [
    "##### Note\n",
    "- you can reach good recall if you predicted all examples as positive examples. There will not be fals negatives\n",
    "- although recall and percision are very important metrics but they do not give the full picture about model performance"
   ]
  },
  {
   "cell_type": "markdown",
   "metadata": {},
   "source": [
    "#### F-Score\n",
    "F-score is the harmonic mean of percision and recall</br></br>\n",
    "$F = \\frac{2}{\\frac{1}{Percision} + \\frac{1}{Recall}}$</br></br>\n",
    "$F = 2 * \\frac{Percision * Recall}{Percision + Recall}$"
   ]
  },
  {
   "cell_type": "code",
   "execution_count": 12,
   "metadata": {},
   "outputs": [
    {
     "name": "stdout",
     "output_type": "stream",
     "text": [
      "              precision    recall  f1-score   support\n",
      "\n",
      "       False       0.99      1.00      1.00       403\n",
      "        True       0.98      0.94      0.96        47\n",
      "\n",
      "    accuracy                           0.99       450\n",
      "   macro avg       0.99      0.97      0.98       450\n",
      "weighted avg       0.99      0.99      0.99       450\n",
      "\n"
     ]
    }
   ],
   "source": [
    "from sklearn.metrics import classification_report\n",
    "\n",
    "print(classification_report(y_test, y_pred))"
   ]
  },
  {
   "cell_type": "markdown",
   "metadata": {},
   "source": [
    "<b>macro avg: </b> the sum of different classes percision or recall divided by the number of classes\n",
    "<b>weighted avg: </b> the sum of weighted  classes percision and recall"
   ]
  },
  {
   "cell_type": "markdown",
   "metadata": {},
   "source": [
    "## Regression Evaluation Metrics\n",
    "### Mean Square Error\n",
    "$MSE = \\frac{1}{n} \\sum_{i=1}^{n}{(Y_i - \\^Y_i)^2}$\n",
    "\n",
    "### Absolute Mean Error\n",
    "$Absolute Error = \\frac{1}{n} \\sum_{i=1}^{n}{|Y_i - \\^Y_i|}$\n"
   ]
  },
  {
   "cell_type": "markdown",
   "metadata": {},
   "source": [
    "### Data Splitting\n",
    "\n",
    "- <b>Model Fiting or training: </b> the process of choosing the parameters of the model like the weights of the regression equation\n",
    "- <b>Model Selection: </b> the process of choosing model hyper parameters like gama in svm\n",
    "- <b>Model Evaluation: </b> the process of measuring ther performance of the model\n",
    "\n",
    "#### Train-Test-Validation Data\n",
    "- <b>Train Data: </b>The training dataset is used to fit the different models. Some times called development data\n",
    "- <b>Validation Data: </b>the validation dataset is then used for the model selection\n",
    "- <b>Test Data: </b>used to evaluate the model and predict its performance\n",
    "  - The advantage of having a test dataset that the model hasn’t seen before during the training and model selection steps is that we can obtain a less biased estimate of its ability to generalize to new data\n",
    "  \n",
    "<center><img src=\"images/modelSelection.png\" width=450><br><a href=\"https://medium.com/analytics-vidhya/cross-validation-techniques-a925782517e8\">img ref</a><br></center>\n",
    "\n",
    "#### Splitting Methods\n",
    "##### Hold-out Validation\n",
    "- Hold-out is when you split up your dataset into a 'train' and 'test' set\n",
    "- The training set is what the model is trained on\n",
    "- The test set is used to see how well that model performs on unseen data\n",
    "\n",
    "##### K-fold Cross Validation\n",
    "1. Shuffle the dataset randomly<br>\n",
    "2. Split the dataset into k groups<br>\n",
    "3. For each unique group:<br>\n",
    "  3.1 Take the group as a hold out or test data set<br>\n",
    "  3.2 Take the remaining groups as a training data set<br>\n",
    "  3.3 Fit a model on the training set and evaluate it on the test set<br>\n",
    "4. Summarize the skill of the model using the sample of model evaluation scores<br>\n",
    "\n",
    "- The advantage of having a test dataset that the model hasn’t seen before during the training and model selection steps is that we can obtain a less biased estimate of its ability to generalize to new data.\n",
    "\n",
    "<center><img src=\"images/kFoldCrossValidation.png\"></img><br><a href=\"https://medium.com/analytics-vidhya/cross-validation-techniques-a925782517e8\">image ref</a></center>\n",
    "\n",
    "\n",
    "##### Grid Search (Tuning Hyperparameters)\n",
    "<b>hyperparameter</b> is a characteristic of a model that is external to the model and whose value cannot be estimated from data</br></br>\n",
    "- By default, accuracy is the score that is optimized, but other scores can be specified in the score argument of the GridSearchCV constructor.\n",
    "- The GridSearchCV process will then construct and evaluate one model for each combination of parameters. And we select the combination that maximizes the system performance\n",
    "\n",
    "<center><img src=\"images/gridSearch.png\"></img></center>"
   ]
  },
  {
   "cell_type": "markdown",
   "metadata": {},
   "source": [
    "<b>Note:</b> During Deep learning training process there are three terms we should be aware about:\n",
    "- Epoch: Represents one iteration over the entire dataset (everything put into the training model).\n",
    "- Batch: Refers to when we cannot pass the entire dataset into the neural network at once, so we divide the dataset into several batches.\n",
    "- Iteration: if we have 10,000 images as data and a batch size of 200. then an epoch should run 50 iterations (10,000 divided by 50)."
   ]
  },
  {
   "cell_type": "markdown",
   "metadata": {},
   "source": [
    "### Apply with skitlearn"
   ]
  }
 ],
 "metadata": {
  "kernelspec": {
   "display_name": "Python 3.9.7 ('base')",
   "language": "python",
   "name": "python3"
  },
  "language_info": {
   "codemirror_mode": {
    "name": "ipython",
    "version": 3
   },
   "file_extension": ".py",
   "mimetype": "text/x-python",
   "name": "python",
   "nbconvert_exporter": "python",
   "pygments_lexer": "ipython3",
   "version": "3.9.7"
  },
  "orig_nbformat": 4,
  "vscode": {
   "interpreter": {
    "hash": "180d529be9b1f03edfbede09fd65ea6b62ba91a89fc74d7b4af9f91428411c0e"
   }
  }
 },
 "nbformat": 4,
 "nbformat_minor": 2
}
