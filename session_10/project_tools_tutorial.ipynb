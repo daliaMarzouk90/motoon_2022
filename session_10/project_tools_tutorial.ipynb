{
 "cells": [
  {
   "cell_type": "markdown",
   "metadata": {},
   "source": [
    "# RESTFULL APIs\n",
    "\n",
    "- It is a the most dominant communication protocol between clients and server\n",
    "- In browsers Front end (like web pages) talks to Back end (server) via http requests\n",
    "- REST is a <b>stateless</b>, <b>cacheable</b>, and simple architecture\n",
    "- It is very helpful in <a href=\"https://www.leanix.net/en/wiki/vsm/microservices-architecture?utm_term=microservices%20architecture&utm_source=adwords&utm_medium=ppc&utm_campaign=DE+%7C+VSM+%7C+Microservices+Architecture+%7C+Search+%7C+GER&hsa_ver=3&hsa_cam=15273477119&hsa_grp=129027149719&hsa_acc=9751618594&hsa_kw=microservices%20architecture&hsa_mt=p&hsa_net=adwords&hsa_src=g&hsa_tgt=kwd-303562904858&hsa_ad=561841828922&gclid=CjwKCAjwhNWZBhB_EiwAPzlhNo6woSokDCsRxbaWvmfUhp5KzcxSQy3gWs5TO8eAXZ3kVgLzKCeOlRoCf7oQAvD_BwE\">microservices achitecture</a>\n",
    "\n",
    "## REST Verbs\n",
    "In rest communication there is something calles api verb that specifies an action to be performed on a specific resource<br>\n",
    "- GET: Fetches a record or set of resources from the server\n",
    "- OPTIONS: Fetches all available REST operations\n",
    "- POST: Creates a new set of resources or a resource\n",
    "- PUT: Updates or replaces the given record\n",
    "- PATCH: Modifies the given record\n",
    "- DELETE: Deletes the given resource\n",
    "\n",
    "## REST Request Parts\n",
    "- The rest api contains <b>parameters, headers, authorization, and body</b>\n",
    "    - <b>Authorization</b> carries credentials containing the authentication information of the client for the resource being requested.\n",
    "    - <b>parameters</b> are intended to add detailed information to identify a resource from the server\n",
    "    - <b>headers</b> in a REST request indicates the format of the request and allowed response\n",
    "    - <b>response</b>\n",
    "    - <b>status code</b> indicates whether the request was successful, and if not, the type of error that occurred\n",
    "    \n",
    "<table class=\"table table-bordered table-hover table-condensed\">\n",
    "<thead><tr><th title=\"Field #1\">Code</th>\n",
    "<th title=\"Field #2\">Description</th>\n",
    "</tr></thead>\n",
    "<tbody><tr>\n",
    "<td align=\"right\">200</td>\n",
    "<td>OK: the request was successful.</td>\n",
    "</tr>\n",
    "<tr>\n",
    "<td align=\"right\">201</td>\n",
    "<td>Created: the request was successful, and one or more entities was created.</td>\n",
    "</tr>\n",
    "<tr>\n",
    "<td align=\"right\">304</td>\n",
    "<td>Not Modified: the entity was not updated, possibly because the ETag condition, such as If-Match or If-None-Match, stopped the request from completing.</td>\n",
    "</tr>\n",
    "<tr>\n",
    "<td align=\"right\">400</td>\n",
    "<td>Bad Request: the request was not properly formed and therefore was not successful.</td>\n",
    "</tr>\n",
    "<tr>\n",
    "<td align=\"right\">404</td>\n",
    "<td>Not Found: the URI path is incorrect, or communication with the server was unsuccessful.</td>\n",
    "</tr>\n",
    "<tr>\n",
    "<td align=\"right\">405</td>\n",
    "<td>Method Not Allowed: the syntax of the request does not match the request type. The Allow header provides more information about the supported types.</td>\n",
    "</tr>\n",
    "<tr>\n",
    "<td align=\"right\">406</td>\n",
    "<td>Not Acceptable: the Accept header response type is not supported. The supported types are XML and JSON.</td>\n",
    "</tr>\n",
    "<tr>\n",
    "<td align=\"right\">409</td>\n",
    "<td>Conflict: the entity or entities cannot be overwritten or deleted.</td>\n",
    "</tr>\n",
    "<tr>\n",
    "<td align=\"right\">412</td>\n",
    "<td>Precondition Failed: when the If-Match header is included in the request, this status indicates that the ETag information did not match and therefore the entity was not updated.</td>\n",
    "</tr>\n",
    "<tr>\n",
    "<td align=\"right\">413</td>\n",
    "<td>Request Too Large: the number of entities that is returned is too large.</td>\n",
    "</tr>\n",
    "<tr>\n",
    "<td align=\"right\">415</td>\n",
    "<td>Unsupported Media Type: the request contains a format that the server cannot interpret.</td>\n",
    "</tr>\n",
    "<tr>\n",
    "<td align=\"right\">503</td>\n",
    "<td>Service Not Available: the solution is not ready and could not respond to the request.</td>\n",
    "</tr>\n",
    "</tbody></table>\n"
   ]
  },
  {
   "cell_type": "markdown",
   "metadata": {},
   "source": [
    "# Flask Overview\n",
    "- Flask is a lightweight web application framework suitable for rest communication\n",
    "- It is designed to make getting start quick and easy\n",
    "\n",
    "## Install Flask\n",
    "<code>pip install Flask</code><br>\n",
    "or add to your virtual environment\n",
    "\n",
    "## Install Postman\n",
    "- We will use the postman to consume the rest apis that we will create\n",
    "- Download from this <a href=\"https://www.postman.com/downloads/\">link</a> and install "
   ]
  },
  {
   "cell_type": "code",
   "execution_count": 5,
   "metadata": {},
   "outputs": [
    {
     "name": "stdout",
     "output_type": "stream",
     "text": [
      " * Serving Flask app '__main__' (lazy loading)\n",
      " * Environment: production\n",
      "\u001b[31m   WARNING: This is a development server. Do not use it in a production deployment.\u001b[0m\n",
      "\u001b[2m   Use a production WSGI server instead.\u001b[0m\n",
      " * Debug mode: off\n"
     ]
    },
    {
     "name": "stderr",
     "output_type": "stream",
     "text": [
      " * Running on http://127.0.0.1:5000 (Press CTRL+C to quit)\n",
      "127.0.0.1 - - [30/Sep/2022 17:26:26] \"POST /post HTTP/1.1\" 200 -\n"
     ]
    }
   ],
   "source": [
    "# save this as app.py\n",
    "from flask import Flask, request\n",
    "\n",
    "app = Flask(__name__)\n",
    "\n",
    "@app.route(\"/\")\n",
    "def hello():\n",
    "    return \"Hello, World!\"\n",
    "\n",
    "@app.route(\"/post\", methods=['POST'])\n",
    "def post():\n",
    "    request_json_data = request.get_json()\n",
    "    request_json_data[\"key_3\"] = 3\n",
    "    return request_json_data\n",
    "\n",
    "app.run()"
   ]
  },
  {
   "cell_type": "markdown",
   "metadata": {},
   "source": [
    "To consume the created apis\n",
    "1. Create a collection in postman<br>\n",
    "<image src=\"images/collection.png\" width=500></image><br><br>\n",
    "\n",
    "2. give the new created collection name<br>\n",
    "<image src=\"images/collection.png\" width=500></image><br><br>\n",
    "\n",
    "3. Add a request for the collection<br>\n",
    "<image src=\"images/create_request.png\" width=500></image><br><br>\n",
    "\n",
    "4. Set request details<br>\n",
    "<image src=\"images/request_details.png\" width=500></image><br><br>"
   ]
  },
  {
   "cell_type": "markdown",
   "metadata": {},
   "source": [
    "# NoSql Databases\n",
    "- stores data in a for fo documents with a flexible schema\n",
    "- gives the flexiblity to scale up horizontalyy\n",
    "- it is very suitable when there is no a strong relation between the data\n",
    "\n",
    "## MongoDB\n",
    "- MongoDB is a free and open-source cross-platform document-oriented database\n",
    "- Classified as a NoSQL database program\n",
    "\n",
    "### Install MongoDB\n",
    "- Install mongodb locally from the <a href=\"https://www.mongodb.com/try/download/community\">link</a>\n",
    "- install 3T studio to explore mongo databases from <a href=\"https://studio3t.com/download/\">link</a>\n",
    "- install mongoclient in the python environment<br>\n",
    "<code>pip install pymongo</code>\n",
    "\n",
    "### Mongodb basic components\n",
    "- <b>databases</b>: has the same meaning like relational databases\n",
    "- <b>collections</b>: simulates the functionality of tables in the retaltional database\n",
    "- <b>document</b>: it is json like data structure that simulates raw in the relational database \n",
    "- <b>indexes</b>: have the same concept like indexes in relational database\n",
    "    - a way to optimize the performance of a database by minimizing the number of disk accesses required when a query is processed\n",
    "    - it is somthing like saving the field that will use alot for queries in a sorting form in the ram which speeds up searching process\n",
    "    - create index for the fields you use alot for searching"
   ]
  },
  {
   "cell_type": "code",
   "execution_count": null,
   "metadata": {},
   "outputs": [],
   "source": [
    "import pymongo\n",
    "\n",
    "client = pymongo.MongoClient() #by letting the defults the client will connect wit local databse\n",
    "\n",
    "db = client[\"recommendation_systems\"]\n",
    "collection = db[\"user_item_data\"]\n",
    "\n",
    "collection.insert_many([{\"app_name\":\"Icarus Six Sixty Six\",\"score\": 1}, {\"app_name\":\"Stegalosaurus Game Development\",\"score\":2}])\n",
    "cursor = collection.find({})\n",
    "for doc in cursor:\n",
    "    print(doc)"
   ]
  }
 ],
 "metadata": {
  "kernelspec": {
   "display_name": "Python 3.10.7 64-bit (microsoft store)",
   "language": "python",
   "name": "python3"
  },
  "language_info": {
   "codemirror_mode": {
    "name": "ipython",
    "version": 3
   },
   "file_extension": ".py",
   "mimetype": "text/x-python",
   "name": "python",
   "nbconvert_exporter": "python",
   "pygments_lexer": "ipython3",
   "version": "3.10.7"
  },
  "orig_nbformat": 4,
  "vscode": {
   "interpreter": {
    "hash": "3d649404ee286c9341d586c87dba08392d8b7db27d1214df02d5d59f9ee48e2a"
   }
  }
 },
 "nbformat": 4,
 "nbformat_minor": 2
}
