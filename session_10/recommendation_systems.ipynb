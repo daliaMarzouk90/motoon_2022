{
 "cells": [
  {
   "cell_type": "markdown",
   "metadata": {},
   "source": [
    "# Recommendadtion Systems\n",
    "- The recommendation system functionality is to personalize the content the service customer see\n",
    "- For example in ecommerce websites make the user see the products that suits their personalities\n",
    "- In news website make the reader see articles that most important to her/him\n",
    "\n",
    "## Recommendation Systems Algorithms\n",
    "- The systems of recommendation is branches mainly to three main categories\n",
    "    - The first is <b>content-based filtering</b>\n",
    "    - The second is <b>collaborative filtering</b>\n",
    "\n",
    "<b>Did you know that?</b><br>\n",
    "40% of app installs on Google Play come from recommendations.<br>\n",
    "60% of watch time on YouTube comes from recommendations.<br>"
   ]
  },
  {
   "cell_type": "markdown",
   "metadata": {},
   "source": [
    "### Content-Based Filtering\n",
    "<p>Uses similarity between items to recommend items similar to what the user likes</p>\n",
    "<p>If user A watches two cute cat videos, then the system can recommend cute animal videos to that user</p>"
   ]
  },
  {
   "cell_type": "markdown",
   "metadata": {},
   "source": [
    "### Collaborative Filtering\n",
    "<p>Uses similarities between queries and items simultaneously to provide recommendations</p>\n",
    "<p>if user A is similar to user B, and user B likes video 1, then the system can recommend video 1 to user A (even if user A hasn’t seen any videos similar to video 1)</p>\n",
    "\n",
    "#### The feedback about the item falls into one of two categories:\n",
    "<ul>\n",
    "\n",
    "<li>Explicit: users specify how much they liked a particular movie by providing a numerical rating.</li>\n",
    "<li>Implicit: if a user watches a movie, the system infers that the user is interested.</li>\n",
    "</ul>\n",
    "\n",
    "#### When a user visits the homepage, the system should recommend movies based on both:\n",
    "<ul>\n",
    "<li>similarity to items the user has liked in the past</li>\n",
    "<li>movies that similar users liked</li>\n",
    "</ul>"
   ]
  },
  {
   "cell_type": "markdown",
   "metadata": {},
   "source": [
    "#### Embedding\n",
    "- A mapping from a discrete set to a vector space called the embedding space. Many recommendation systems rely on learning an appropriate embedding representation of the queries and items.\n",
    "\n",
    "- You can think of these numbers as capturing different characteristics of the entity it is representing\n",
    "\n",
    "- The idea of item embedding is similar to the idea of word embedding"
   ]
  },
  {
   "cell_type": "markdown",
   "metadata": {},
   "source": [
    "### The piple line of recommendation systems usually came in three stages\n",
    "- Candidate Generation: the process of nominating the huge number of videos and clients to groups.\n",
    "- Scoring: evaluate the output of the recommendation system in order to generate the the set of items that will be displayed to the client.\n",
    "- Re-ranking: the final step in which system removes items that the user explicitly disliked or boosts the score of fresher content. Re-ranking can also help ensure diversity, freshness, and fairness."
   ]
  },
  {
   "cell_type": "markdown",
   "metadata": {},
   "source": [
    "Note\n",
    "Check Fastai library and tensorflow for possible options"
   ]
  },
  {
   "cell_type": "markdown",
   "metadata": {},
   "source": [
    "https://cseweb.ucsd.edu/~jmcauley/datasets.html#steam_data"
   ]
  },
  {
   "cell_type": "markdown",
   "metadata": {},
   "source": [
    "Bonus work\n",
    "-use https://github.com/fastai/fastai"
   ]
  },
  {
   "cell_type": "code",
   "execution_count": null,
   "metadata": {},
   "outputs": [],
   "source": [
    "Not"
   ]
  }
 ],
 "metadata": {
  "kernelspec": {
   "display_name": "Python 3.10.7 64-bit (microsoft store)",
   "language": "python",
   "name": "python3"
  },
  "language_info": {
   "name": "python",
   "version": "3.10.7"
  },
  "orig_nbformat": 4,
  "vscode": {
   "interpreter": {
    "hash": "3d649404ee286c9341d586c87dba08392d8b7db27d1214df02d5d59f9ee48e2a"
   }
  }
 },
 "nbformat": 4,
 "nbformat_minor": 2
}
