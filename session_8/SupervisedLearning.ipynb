{
 "cells": [
  {
   "cell_type": "markdown",
   "metadata": {},
   "source": [
    "## Similarity Measurement"
   ]
  },
  {
   "cell_type": "markdown",
   "metadata": {},
   "source": [
    "## Agglomerative Hierarchical Clustering\n",
    "- Agglomerative clustering works in a \"bottom-up\" manner\n",
    "- Tt first treat each object as a singleton cluster\n",
    "- At each step of the algorithm, the two clusters that are the most similar are combined into a new bigger cluster (nodes)\n",
    "- "
   ]
  },
  {
   "cell_type": "markdown",
   "metadata": {},
   "source": [
    "#### Random Forests as Regressor\n",
    "\n",
    "<b>Competetion Sorce: </b>https://www.kaggle.com/datasets/jmmvutu/summer-products-and-sales-in-ecommerce-wish"
   ]
  },
  {
   "cell_type": "code",
   "execution_count": null,
   "metadata": {},
   "outputs": [],
   "source": [
    "from pandas import read_csv  \n",
    "\n",
    "df = read_csv(\"data/summer-products-with-rating-and-performance_2020-08.csv\")\n",
    "all_cols = df.columns.to_list()\n",
    "num_cols = df._get_numeric_data().columns.to_list()\n",
    "\n",
    "cols = list(set(all_cols) - set(num_cols))\n",
    "considered_cols = []\n",
    "for col in cols:\n",
    "    if len(df[col].unique()) > 100:\n",
    "        continue\n",
    "\n",
    "    considered_cols.append(col)"
   ]
  },
  {
   "cell_type": "markdown",
   "metadata": {},
   "source": []
  },
  {
   "cell_type": "markdown",
   "metadata": {},
   "source": [
    "### Perceptron\n",
    "- A Perceptron is the basic idea of Artificial neural networks and deep learning as well\n",
    "- It can solve binary linear classification problems\n",
    "\n",
    "<center><img src=\"images/perceptron.avif\" width=350></img></center>\n",
    "</br>\n",
    "<center>\n",
    "\n",
    "$x^{(n)}, y^{(n)} \\in \\mathcal{D}$, where $y^{(n)} \\in \\{-1,+1\\}$.</br>If $\\hat{y}^{(n)} = w^\\top x^{(n)}$ has a different sign from $y^{(n)}$ the weights are updated to *increase* $\\hat{y}^{(n)} {y}^{(n)}$.</br>\n",
    "The gradient of the mean squre error $({\\hat{y}^{(n)}  - {y}^{(n)}})^{(2)}$ wrt. $w$<br>\n",
    "$2 ({\\hat{y}^{(n)}  - {y}^{(n)}})  \\frac{\\partial}{\\partial w}\\hat{y}^{(n)}$<br>\n",
    "$2 ({\\hat{y}^{(n)}  - {y}^{(n)}})  \\frac{\\partial}{\\partial w}(w^\\top x^{(n)})$<br>\n",
    "\n",
    "</center>\n"
   ]
  },
  {
   "cell_type": "code",
   "execution_count": null,
   "metadata": {},
   "outputs": [],
   "source": []
  }
 ],
 "metadata": {
  "kernelspec": {
   "display_name": "Python 3.10.6 64-bit (windows store)",
   "language": "python",
   "name": "python3"
  },
  "language_info": {
   "name": "python",
   "version": "3.10.6"
  },
  "orig_nbformat": 4,
  "vscode": {
   "interpreter": {
    "hash": "3d649404ee286c9341d586c87dba08392d8b7db27d1214df02d5d59f9ee48e2a"
   }
  }
 },
 "nbformat": 4,
 "nbformat_minor": 2
}
